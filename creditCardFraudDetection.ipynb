{
 "cells": [
  {
   "cell_type": "code",
   "execution_count": 2,
   "metadata": {
    "collapsed": true
   },
   "outputs": [],
   "source": [
    "import pandas as pd\n",
    "import matplotlib.pyplot as plt\n",
    "import numpy as np\n",
    "\n",
    "%matplotlib inline"
   ]
  },
  {
   "cell_type": "code",
   "execution_count": null,
   "metadata": {},
   "outputs": [],
   "source": [
    "# define data\n",
    "charge_eu = pd.read_csv(\"D:\\creditCardFraudDetection_data/20170314_charge_eu.csv\", encoding='utf-8-sig')\n",
    "charge_na = pd.read_csv(\"D:\\creditCardFraudDetection_data/20170314_charge_na.csv\", encoding='utf-8-sig')\n",
    "purchase_eu = pd.read_csv(\"D:\\creditCardFraudDetection_data/20170411_purchase_eu.csv\", encoding='utf-8-sig')\n",
    "purchase_na = pd.read_csv(\"D:\\creditCardFraudDetection_data/20170411_purchase_eu.csv\", encoding='utf-8-sig')"
   ]
  }
 ],
 "metadata": {
  "kernelspec": {
   "display_name": "Python 3",
   "language": "python",
   "name": "python3"
  },
  "language_info": {
   "codemirror_mode": {
    "name": "ipython",
    "version": 3
   },
   "file_extension": ".py",
   "mimetype": "text/x-python",
   "name": "python",
   "nbconvert_exporter": "python",
   "pygments_lexer": "ipython3",
   "version": "3.6.2"
  }
 },
 "nbformat": 4,
 "nbformat_minor": 2
}
