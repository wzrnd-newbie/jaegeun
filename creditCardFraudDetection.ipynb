{
 "cells": [
  {
   "cell_type": "code",
   "execution_count": 2,
   "metadata": {
    "collapsed": true
   },
   "outputs": [],
   "source": [
    "import pandas as pd\n",
    "import matplotlib.pyplot as plt\n",
    "import numpy as np\n",
    "\n",
    "%matplotlib inline"
   ]
  },
  {
   "cell_type": "code",
   "execution_count": 6,
   "metadata": {},
   "outputs": [],
   "source": [
    "# define data\n",
    "charge_eu = pd.read_csv(\"D:\\creditCardFraudDetection_data/20170314_charge_eu.csv\", encoding='utf-8-sig')\n",
    "charge_na = pd.read_csv(\"D:\\creditCardFraudDetection_data/20170314_charge_na.csv\", encoding='utf-8-sig')\n",
    "purchase_eu = pd.read_csv(\"D:\\creditCardFraudDetection_data/20170411_purchase_eu.csv\", encoding='utf-8-sig')\n",
    "purchase_na = pd.read_csv(\"D:\\creditCardFraudDetection_data/20170411_purchase_eu.csv\", encoding='utf-8-sig')"
   ]
  },
  {
   "cell_type": "code",
   "execution_count": 74,
   "metadata": {},
   "outputs": [],
   "source": [
    "def createAbuserDataSet(data_set):\n",
    "    data_set = data_set[data_set.charge_status >= 60].drop_duplicates(['user_no'], keep='last')\n",
    "        \n",
    "    data_set = pd.DataFrame(data_set, columns=['user_no'])\n",
    "    data_set['Class'] = 1\n",
    "    return data_set\n",
    "def createAllDataSet(data_set):\n",
    "    data_set = pd.DataFrame(data_set, columns=['user_no']).drop_duplicates(['user_no'], keep='last')\n",
    "    return data_set"
   ]
  },
  {
   "cell_type": "code",
   "execution_count": 92,
   "metadata": {},
   "outputs": [
    {
     "name": "stdout",
     "output_type": "stream",
     "text": [
      "eu 일반 유저의 수:  228078\n",
      "na 일반 유저의 수:  130860\n",
      "eu 환불 유저의 수:  726\n",
      "na 환불 유저의 수:  921\n",
      "전체 유저의 수:  360585\n",
      "일반 유저의 비율:  0.9954324223137402\n",
      "환불 유저의 비율:  0.004567577686259827\n"
     ]
    },
    {
     "data": {
      "text/plain": [
       "<matplotlib.text.Text at 0x1651d024e10>"
      ]
     },
     "execution_count": 92,
     "metadata": {},
     "output_type": "execute_result"
    },
    {
     "data": {
      "image/png": "[encoded data removed]",
      "text/plain": [
       "<matplotlib.figure.Figure at 0x1654312d588>"
      ]
     },
     "metadata": {},
     "output_type": "display_data"
    }
   ],
   "source": [
    "# 데이터 통합 및 일반 유저와 환불 유저의 비율\n",
    "charge_eu_abuser = createAbuserDataSet(charge_eu)\n",
    "charge_na_abuser = createAbuserDataSet(charge_na)\n",
    "\n",
    "# 전체 유저에서 환불 유저를 뺀 것이 일반 유저\n",
    "charge_eu_normal = createAllDataSet(charge_eu).drop(charge_eu_abuser.index)\n",
    "charge_eu_normal['Class'] = 0\n",
    "charge_na_normal = createAllDataSet(charge_na).drop(charge_na_abuser.index)\n",
    "charge_na_normal['Class'] = 0\n",
    "print(\"eu 일반 유저의 수: \", len(charge_eu_normal))\n",
    "print(\"na 일반 유저의 수: \", len(charge_na_normal))\n",
    "print(\"eu 환불 유저의 수: \", len(charge_eu_abuser))\n",
    "print(\"na 환불 유저의 수: \", len(charge_na_abuser))\n",
    "\n",
    "# 데이터 통합\n",
    "charge_all = pd.concat([charge_eu_abuser, charge_eu_normal, charge_na_abuser, charge_na_normal])\n",
    "print(\"전체 유저의 수: \", len(charge_all))\n",
    "print(\"일반 유저의 비율: \", len(charge_all[charge_all.Class == 0]) / len(charge_all))\n",
    "print(\"환불 유저의 비율: \", len(charge_all[charge_all.Class == 1]) / len(charge_all))\n",
    "count_classes = pd.value_counts(charge_all['Class'], sort=True)\n",
    "count_classes.plot(kind = 'bar')\n",
    "plt.title(\"chargeback class histogram (imbalanced)\")\n",
    "plt.xlabel(\"Class\")\n",
    "plt.ylabel(\"Frequency\")"
   ]
  },
  {
   "cell_type": "code",
   "execution_count": 93,
   "metadata": {},
   "outputs": [
    {
     "data": {
      "text/html": [
       "<div>\n",
       "<style>\n",
       "    .dataframe thead tr:only-child th {\n",
       "        text-align: right;\n",
       "    }\n",
       "\n",
       "    .dataframe thead th {\n",
       "        text-align: left;\n",
       "    }\n",
       "\n",
       "    .dataframe tbody tr th {\n",
       "        vertical-align: top;\n",
       "    }\n",
       "</style>\n",
       "<table border=\"1\" class=\"dataframe\">\n",
       "  <thead>\n",
       "    <tr style=\"text-align: right;\">\n",
       "      <th></th>\n",
       "      <th>user_no</th>\n",
       "      <th>Class</th>\n",
       "    </tr>\n",
       "  </thead>\n",
       "  <tbody>\n",
       "    <tr>\n",
       "      <th>1109331</th>\n",
       "      <td>42002651</td>\n",
       "      <td>0</td>\n",
       "    </tr>\n",
       "  </tbody>\n",
       "</table>\n",
       "</div>"
      ],
      "text/plain": [
       "          user_no  Class\n",
       "1109331  42002651      0"
      ]
     },
     "execution_count": 93,
     "metadata": {},
     "output_type": "execute_result"
    }
   ],
   "source": [
    "# feature 생성 과정\n",
    "charge_all[charge_all['user_no'] == 42002651]"
   ]
  }
 ],
 "metadata": {
  "kernelspec": {
   "display_name": "Python 3",
   "language": "python",
   "name": "python3"
  },
  "language_info": {
   "codemirror_mode": {
    "name": "ipython",
    "version": 3
   },
   "file_extension": ".py",
   "mimetype": "text/x-python",
   "name": "python",
   "nbconvert_exporter": "python",
   "pygments_lexer": "ipython3",
   "version": "3.6.2"
  }
 },
 "nbformat": 4,
 "nbformat_minor": 2
}
