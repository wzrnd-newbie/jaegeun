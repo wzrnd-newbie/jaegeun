{
 "cells": [
  {
   "cell_type": "code",
   "execution_count": 2,
   "metadata": {
    "collapsed": true
   },
   "outputs": [],
   "source": [
    "import pandas as pd\n",
    "import matplotlib.pyplot as plt\n",
    "import numpy as np\n",
    "\n",
    "%matplotlib inline"
   ]
  },
  {
   "cell_type": "code",
   "execution_count": 6,
   "metadata": {},
   "outputs": [],
   "source": [
    "# define data\n",
    "charge_eu = pd.read_csv(\"D:\\creditCardFraudDetection_data/20170314_charge_eu.csv\", encoding='utf-8-sig')\n",
    "charge_na = pd.read_csv(\"D:\\creditCardFraudDetection_data/20170314_charge_na.csv\", encoding='utf-8-sig')\n",
    "purchase_eu = pd.read_csv(\"D:\\creditCardFraudDetection_data/20170411_purchase_eu.csv\", encoding='utf-8-sig')\n",
    "purchase_na = pd.read_csv(\"D:\\creditCardFraudDetection_data/20170411_purchase_eu.csv\", encoding='utf-8-sig')"
   ]
  },
  {
   "cell_type": "code",
   "execution_count": 52,
   "metadata": {},
   "outputs": [],
   "source": [
    "# charge_status가 60. 65인 user는 환불 유저로써 class는 1, 아니면 0\n",
    "def createNewTypeDataSet(data_set, isAbuser):\n",
    "    if isAbuser == 1:\n",
    "        data_set = data_set[data_set.charge_status >= 60].drop_duplicates(['user_no'], keep='last')\n",
    "    else:\n",
    "        data_set = data_set[data_set.charge_status < 60].drop_duplicates(['user_no'], keep='last')\n",
    "        \n",
    "    data_set = pd.DataFrame(data_set, columns=['user_no'])\n",
    "    data_set['Class'] = isAbuser\n",
    "    return data_set"
   ]
  },
  {
   "cell_type": "code",
   "execution_count": 53,
   "metadata": {},
   "outputs": [
    {
     "name": "stdout",
     "output_type": "stream",
     "text": [
      "Percentage of normal user:  0.9954531902206321\n",
      "Percentage of chargeback user:  0.004546809779367919\n"
     ]
    }
   ],
   "source": [
    "# 데이터 통합 및 일반 유저와 환불 유저의 비율\n",
    "charge_eu_abuser = createNewTypeDataSet(charge_eu, 1)\n",
    "charge_eu_normal = createNewTypeDataSet(charge_eu, 0)\n",
    "charge_na_abuser = createNewTypeDataSet(charge_na, 1)\n",
    "charge_na_normal = createNewTypeDataSet(charge_na, 0)\n",
    "charge_all = pd.concat([charge_eu_abuser, charge_eu_normal, charge_na_abuser, charge_na_normal])\n",
    "print(\"Percentage of normal user: \", len(charge_all[charge_all.Class == 0]) / len(charge_all))\n",
    "print(\"Percentage of chargeback user: \", len(charge_all[charge_all.Class == 1]) / len(charge_all))"
   ]
  },
  {
   "cell_type": "code",
   "execution_count": 55,
   "metadata": {},
   "outputs": [],
   "source": [
    "# feature 생성 과정\n"
   ]
  }
 ],
 "metadata": {
  "kernelspec": {
   "display_name": "Python 3",
   "language": "python",
   "name": "python3"
  },
  "language_info": {
   "codemirror_mode": {
    "name": "ipython",
    "version": 3
   },
   "file_extension": ".py",
   "mimetype": "text/x-python",
   "name": "python",
   "nbconvert_exporter": "python",
   "pygments_lexer": "ipython3",
   "version": "3.6.2"
  }
 },
 "nbformat": 4,
 "nbformat_minor": 2
}
